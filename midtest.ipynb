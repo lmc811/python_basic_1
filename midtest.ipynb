{
 "cells": [
  {
   "cell_type": "code",
   "execution_count": null,
   "metadata": {},
   "outputs": [],
   "source": [
    "빅데이터 중간고사 답\n",
    "\n",
    "문제1: 다음 중 csv파일에 대해 올바르게 설명된 것은 무엇인가? \n",
    "(1) csv 파일은 콤마로 구분된 텍스트 파일이다. \n",
    "(2) csv 파일은 바이너리 파일이므로 텍스트 편집기로 열 수 없다. \n",
    "(3) 파이썬 open() 함수로 csv 파일을 열려면 mode 변수를 ‘rb’로 지정해야 한다. \n",
    "(4) csv 파일은 한 줄에 여러 레코드를 지정할 수 있다.\n",
    "\n",
    "답1: (1)\n",
    "(1) O\n",
    "(2) 텍스트 파일이다\n",
    "(3) ‘r’로 지정한다\n",
    "(4) 줄 당 하나의 레코드 지정\n",
    "\n",
    "\n",
    "문제2: 다음 중 표 형식 데이터가 아닌 것은 무엇인가? \n",
    "(1) CSV \n",
    "(2) JSON \n",
    "(3) Excel \n",
    "(4) DataFrame\n",
    "\n",
    "답2: 2\n",
    "(1) 표 형식\n",
    "(2) O\n",
    "(3) 표 형식\n",
    "(4) 표 같은 스프레드시트 형식의 자료구조\n",
    "\n",
    "\n",
    "문제3: 판다스 read_csv() 함수의 인수 설명이 옳은 것은? \n",
    "(1) header 인수의 기본 값은 1로 CSV 파일의 첫 번째 행을 열 이름으로 사용한다. \n",
    "(2) names 인수에 행 이름을 리스트로 지정할 수 있다. \n",
    "(3) encoding 인수에 CSV 파일의 유니코드 인코딩 방식을 지정할 수 있다. \n",
    "(4) dtype 인수를 사용하려면 모든 열의 데이터타입을 지정해야 한다.\n",
    "\n",
    "답3: (3)\n",
    "(1) header 인수의 기본 값은 None으로 지정\n",
    "(2) names인수에 열 이름 리스트로 지정\n",
    "(3) O\n",
    "(4) dtype은 데이터의 타입을 강제 지정할 수 있음\n",
    "\n",
    "문제4: Open API를 사용하여 도서관 빅데이터 시스템에서 수집한 다양한 도서관 데이터를 가져 오는 일반적인 방법에 대한 설명으로 옳지 않은 것은? \n",
    "(1) Open API의 인증키를 발급받는다. \n",
    "(2) Open API의 요청 URL을 생성한다. \n",
    "(3) 요청 URL에 필요한 매개변수를 추가하고 요청 메시지를 보낸다. \n",
    "(4) 받은 응답 메시지를 해석하고 분석한다.\n",
    "\n",
    "답4: (4)\n",
    "\n",
    "\n",
    "문제5: 다음 중 웹 기반 API에서 널리 사용하는 데이터 형식이 아닌 것은? \n",
    "(1) CSV \n",
    "(2) JSON \n",
    "(3) XML \n",
    "(4) HTML\n",
    "\n",
    "답5: (1) ???? 5주차 6장 18쪽\n",
    "\n",
    "\n",
    "문제6: 다음 중 파이썬에서 웹 URL을 호출하는 모듈은 무엇인가? \n",
    "(1) pandas \n",
    "(2) requests \n",
    "(3) json \n",
    "(4) xml\n",
    "\n",
    "답6: (2)\n",
    "\n",
    "\n",
    "문제7: 판다스에서 JSON 문자열을 데이터프레임으로 변환하는 함수는? \n",
    "(1) to_json() \n",
    "(2) json_loads() \n",
    "(3) read_json() \n",
    "(4) json()\n",
    "\n",
    "답7: (3)\n",
    "(1) to_json() : 데이터프레임을 JSON 형식의 문자열로 변환\n",
    "(2) json_loads() : JSON 형식의 문자열을 Python 데이터 구조로 로드\n",
    "(3) read_json() : JSON 문자열을 데이터프레임으로 변환\n",
    "(4) json() : x\n",
    "\n",
    "\n",
    "문제8: 다음 중 HTTP GET 방식에 대해 잘못 설명한 것은? \n",
    "(1) 웹브라우저만이 사용할 수 있는 방식이다. \n",
    "(2) 웹서버에서 필요한 파라미터를 웹 URL 뒤에 연결하여 전달한다. \n",
    "(3) 파라미터 사이는 &로 구분하고 파라미터와 값 사이는 = 로 구분한다. \n",
    "(4) 파라미터와 기본 URL 사이는 ?로 구분한다.\n",
    "\n",
    "답8: (1)\n",
    "\n",
    "\n",
    "11. 다음 HTML 코드 <a href=“https://openai.com”>openAI</a>에서 <a> 요소 태그를 찾 을 수 있는 BeautifulSoup 객체인 soup 명령으로 올바르지 않은 것은?\n",
    "(1) soup.find(‘a’) \n",
    "(2) soup.find(’a’, attrs={’href’: ’http://openai.com’}) \n",
    "(3) soup(‘a’) \n",
    "(4) soup.select(‘a’)\n",
    "\n",
    "답11: (2)"
   ]
  },
  {
   "cell_type": "code",
   "execution_count": 8,
   "metadata": {},
   "outputs": [
    {
     "name": "stdout",
     "output_type": "stream",
     "text": [
      "   이름  나이  성별\n",
      "0  철수  25  남자\n",
      "1  영희  30  여자\n",
      "2  민수  22  남자\n",
      "3  지영  28  여자\n"
     ]
    }
   ],
   "source": [
    "#9번 답(코딩문제)\n",
    "#다음 딕셔너리 데이터를 사용하여 pandas의 데이터프레임을 만들고, 이 데이터프레임을 출력하는 프로그램을 작성하시오.\n",
    "#{‘이름’: ['철수', '영희', '민수', '지영'], ‘나이’: [25, 30, 22, 28], ‘성별’: ['남자', '여자', '남자', '여자'] }\n",
    "\n",
    "import pandas as pd\n",
    "\n",
    "# 딕셔너리 데이터\n",
    "data = {\n",
    "    '이름': ['철수', '영희', '민수', '지영'],\n",
    "    '나이': [25, 30, 22, 28],\n",
    "    '성별': ['남자', '여자', '남자', '여자']\n",
    "}\n",
    "\n",
    "# 데이터프레임 생성\n",
    "df = pd.DataFrame(data)\n",
    "\n",
    "# 데이터프레임 출력\n",
    "print(df)\n"
   ]
  },
  {
   "cell_type": "code",
   "execution_count": 43,
   "metadata": {},
   "outputs": [
    {
     "name": "stdout",
     "output_type": "stream",
     "text": [
      "실행결과: \n",
      "\n",
      "   col1  col2\n",
      "0    a     1\n",
      "1    b     2\n",
      "2    c     3\n"
     ]
    },
    {
     "data": {
      "text/html": [
       "<div>\n",
       "<style scoped>\n",
       "    .dataframe tbody tr th:only-of-type {\n",
       "        vertical-align: middle;\n",
       "    }\n",
       "\n",
       "    .dataframe tbody tr th {\n",
       "        vertical-align: top;\n",
       "    }\n",
       "\n",
       "    .dataframe thead th {\n",
       "        text-align: right;\n",
       "    }\n",
       "</style>\n",
       "<table border=\"1\" class=\"dataframe\">\n",
       "  <thead>\n",
       "    <tr style=\"text-align: right;\">\n",
       "      <th></th>\n",
       "      <th>col1</th>\n",
       "      <th>col2</th>\n",
       "    </tr>\n",
       "  </thead>\n",
       "  <tbody>\n",
       "    <tr>\n",
       "      <th>0</th>\n",
       "      <td>a</td>\n",
       "      <td>1</td>\n",
       "    </tr>\n",
       "    <tr>\n",
       "      <th>1</th>\n",
       "      <td>b</td>\n",
       "      <td>2</td>\n",
       "    </tr>\n",
       "    <tr>\n",
       "      <th>2</th>\n",
       "      <td>c</td>\n",
       "      <td>3</td>\n",
       "    </tr>\n",
       "  </tbody>\n",
       "</table>\n",
       "</div>"
      ],
      "text/plain": [
       "  col1  col2\n",
       "0    a     1\n",
       "1    b     2\n",
       "2    c     3"
      ]
     },
     "execution_count": 43,
     "metadata": {},
     "output_type": "execute_result"
    }
   ],
   "source": [
    "# 10번 답(결과)\n",
    "#주어진 데이터프레임 df에 다음 명령을 적용했을 때 실행 결과를 적으시오.\n",
    "#df.loc[:2, 'col1':'col2']\n",
    "import pandas as pd\n",
    "\n",
    "data = {\"col1\":[\"a\",\"b\",\"c\"], \"col2\":[1,2,3]}\n",
    "df = pd.DataFrame(data)\n",
    "print('실행결과:', '\\n\\n', df)\n",
    "\n",
    "df.loc[:2, 'col1':'col2'] # :2는 2행까지 띄어주는 의미(0이면 0행만)"
   ]
  },
  {
   "cell_type": "code",
   "execution_count": 153,
   "metadata": {},
   "outputs": [
    {
     "name": "stdout",
     "output_type": "stream",
     "text": [
      "<a href=\"https://openai.com\">openAI</a>\n",
      "None\n",
      "[<a href=\"https://openai.com\">openAI</a>]\n",
      "[<a href=\"https://openai.com\">openAI</a>]\n"
     ]
    }
   ],
   "source": [
    "# 11번 참고코드(객관식)\n",
    "#다음 HTML 코드 <a href=“https://openai.com”>openAI</a>에서 <a> 요소 태그를 찾 을 수 있는 BeautifulSoup 객체인 soup 명령으로 올바르지 않은 것은?\n",
    "#(1) soup.find(‘a’) \n",
    "#(2) soup.find(’a’, attrs={’href’: ’http://openai.com’}) \n",
    "#(3) soup(‘a’) \n",
    "#(4) soup.select(‘a’)\n",
    "\n",
    "from bs4 import BeautifulSoup\n",
    "\n",
    "html_code = '<a href=\"https://openai.com\">openAI</a>'\n",
    "soup = BeautifulSoup(html_code, 'html.parser')\n",
    "\n",
    "#1\n",
    "a_tag = soup.find('a')\n",
    "print(a_tag)\n",
    "#2\n",
    "a_tag = soup.find('a', attrs={'href': 'http://openai.com'})\n",
    "print(a_tag)\n",
    "#3\n",
    "a_tag = soup('a')\n",
    "print(a_tag)\n",
    "#4\n",
    "a_tag = soup.select('a')\n",
    "print(a_tag)\n",
    "\n",
    "# 답: 2번"
   ]
  },
  {
   "cell_type": "code",
   "execution_count": 24,
   "metadata": {},
   "outputs": [
    {
     "name": "stdout",
     "output_type": "stream",
     "text": [
      "  col1  col2\n",
      "0    a     1\n",
      "1    b     2\n",
      "2    c     3 \n",
      "\n",
      "   col3  col4\n",
      "0    a    10\n",
      "1    b    20\n",
      "2    f    30 \n",
      "\n",
      "   col1  col2 col3  col4\n",
      "0    a   1.0    a  10.0\n",
      "1    b   2.0    b  20.0\n",
      "2    c   3.0  NaN   NaN\n",
      "3  NaN   NaN    f  30.0\n"
     ]
    }
   ],
   "source": [
    "# 12번 답(코딩문제) \n",
    "# pandas의 merge()를 이용하여 주어진 두 데이터프레임 df1, df2를 합쳐서 새 로운 데이터프레임 df3을 생성하여 출력하는 프로그램을 작성하시오.\n",
    "\n",
    "data1 = {\"col1\":[\"a\",\"b\",\"c\"], \"col2\":[1,2,3]}\n",
    "data2 = {\"col3\":[\"a\",\"b\",\"f\"], \"col4\":[10,20,30]}\n",
    "\n",
    "df1 = pd.DataFrame(data1)\n",
    "df2 = pd.DataFrame(data2)\n",
    "\n",
    "df3 = pd.merge(df1, df2, left_on=\"col1\", right_on=\"col3\", how = \"outer\")\n",
    "print(df1, \"\\n\\n\", df2, \"\\n\\n\", df3)"
   ]
  },
  {
   "cell_type": "code",
   "execution_count": 63,
   "metadata": {},
   "outputs": [
    {
     "name": "stdout",
     "output_type": "stream",
     "text": [
      "  name  score\n",
      "1   영희     88\n",
      "2   민수     92\n"
     ]
    }
   ],
   "source": [
    "# 13번 답(코딩문제)\n",
    "# 주어진 데이터프레임 df에는 학생들의 name과 score가 포함되어 있다. 데이터프레임의 조건부 색인을 이용하여 성적이 80점 이상인 학생들의 데이터프레임 df1을 반환 하는 프로그램을 작성하시오.\n",
    "# ‘name’: ['철수', '영희', '민수', '지영']\n",
    "# \"score\":[75, 88, 92, 68], \n",
    "\n",
    "import pandas as pd\n",
    "\n",
    "# 주어진 데이터프레임 생성\n",
    "data = {\"name\": ['철수', '영희', '민수', '지영'],\n",
    "        \"score\": [75, 88, 92, 68]}\n",
    "df = pd.DataFrame(data)\n",
    "\n",
    "# 성적이 80점 이상인 학생들의 데이터프레임 조건부 색인을 이용하여 추출\n",
    "# 조건: (df['score'] >= 80)을 df로 한번더 감싸기\n",
    "df1 = df[df['score'] >= 80]\n",
    "\n",
    "print(df1)\n"
   ]
  },
  {
   "cell_type": "code",
   "execution_count": 65,
   "metadata": {},
   "outputs": [
    {
     "name": "stdout",
     "output_type": "stream",
     "text": [
      "    name  score\n",
      "0  False  False\n",
      "1  False  False\n",
      "2   True   True\n",
      "3  False  False\n"
     ]
    }
   ],
   "source": [
    "# 14번 답(실행결과)\n",
    "# 주어진 프로그램의 실행 결과를 적으시오.\n",
    "\n",
    "import pandas as pd\n",
    "\n",
    "data = {'name': ['철수', '영희', None, '지영'], 'score': [75, 88, None, 68]} \n",
    "df = pd.DataFrame(data)\n",
    "\n",
    "result = df.isna() #insa()는 bool형식으로 반환하는 메서드(정상값:false, 결측값:true)\n",
    "print(result) #none값만 true"
   ]
  },
  {
   "cell_type": "code",
   "execution_count": 48,
   "metadata": {},
   "outputs": [
    {
     "name": "stdout",
     "output_type": "stream",
     "text": [
      "           score\n",
      "count   3.000000\n",
      "mean   85.000000\n",
      "std     8.888194\n",
      "min    75.000000\n",
      "25%    81.500000\n",
      "50%    88.000000\n",
      "75%    90.000000\n",
      "max    92.000000\n",
      "\n",
      "\n",
      "<class 'pandas.core.frame.DataFrame'>\n",
      "RangeIndex: 3 entries, 0 to 2\n",
      "Data columns (total 2 columns):\n",
      " #   Column  Non-Null Count  Dtype \n",
      "---  ------  --------------  ----- \n",
      " 0   name    3 non-null      object\n",
      " 1   score   3 non-null      int64 \n",
      "dtypes: int64(1), object(1)\n",
      "memory usage: 180.0+ bytes\n",
      "None\n",
      "\n",
      "\n",
      "85.0\n",
      "\n",
      "\n",
      "   name  score\n",
      "0    철수   75.0\n",
      "1    영희   88.0\n",
      "2    민수   92.0\n",
      "평균  NaN   85.0\n"
     ]
    }
   ],
   "source": [
    "# 15번 참고코드(객관식)\n",
    "# 주어진 데이터프레임 df의 컬럼 “score”의 평균을 계산할 수 있는 메서드가 아닌 것은 무엇인가요?\n",
    "# (1) df.describe() \n",
    "# (2) df.info() \n",
    "# (3) df['score'].mean() \n",
    "# (4) df['score'].apply(mean)\n",
    "\n",
    "import pandas as pd\n",
    "\n",
    "data = {'name': ['철수', '영희', '민수'], 'score': [75, 88, 92]} \n",
    "df = pd.DataFrame(data)\n",
    "\n",
    "#1\n",
    "print(df.describe()) # mean이 평균값\n",
    "print('\\n')\n",
    "#2\n",
    "print(df.info()) # 데이터프레임 정보요약\n",
    "print('\\n')\n",
    "#3\n",
    "print(df['score'].mean()) # 평균값\n",
    "print('\\n')\n",
    "#4\n",
    "print(df['score'].apply(mean)) # 하여튼 이것도 평균값 맞음\n",
    "# df.loc['평균'] = df[['score']].apply(lambda x:x.mean(), axis = 'index') # 이렇게 하면 됨\n",
    "# print(df)\n",
    "\n",
    "# 답: 2번"
   ]
  },
  {
   "cell_type": "code",
   "execution_count": 90,
   "metadata": {},
   "outputs": [
    {
     "data": {
      "text/plain": [
       "0    5\n",
       "1    7\n",
       "2    9\n",
       "dtype: int64"
      ]
     },
     "execution_count": 90,
     "metadata": {},
     "output_type": "execute_result"
    }
   ],
   "source": [
    "# 16번 답(실행결과)\n",
    "# 주어진 데이터프레임 df에 다음 명령을 적용했을 때 실행 결과를 적으시오.\n",
    "# data = {'col1': [1,2,3], 'col2': [4,5,6]}\n",
    "# df = pd.DataFrame(data)\n",
    "\n",
    "# df.apply(lambda row: row['col1'] + row['col2'], axis=\"columns\")\n",
    "\n",
    "import pandas as pd\n",
    "\n",
    "data = {'col1': [1,2,3], 'col2': [4,5,6]}\n",
    "df = pd.DataFrame(data)\n",
    "\n",
    "df.apply(lambda row: row['col1'] + row['col2'], axis=\"columns\")"
   ]
  },
  {
   "cell_type": "code",
   "execution_count": 31,
   "metadata": {},
   "outputs": [
    {
     "name": "stdout",
     "output_type": "stream",
     "text": [
      "  names  score\n",
      "0    철수     75\n",
      "1    영희     88\n",
      "2    민수     92\n",
      "3    지영     68\n",
      "4    다현     95\n"
     ]
    }
   ],
   "source": [
    "# 17번 답(코딩문제)\n",
    "# pandas의 concat() 메서드을 이용하여 주어진 두 개의 데이터프레임 df1과 df2를 수직으로 연결하여 새로운 데이터프레임 df3을 생성하여 출력하는 프로그램을 작성하시오.\n",
    "# \n",
    "\n",
    "import pandas as pd\n",
    "\n",
    "data1 = {'names': ['철수', '영희', '민수'], 'score': [75, 88, 92]}\n",
    "data2 = {'names': ['지영', '다현'], 'score': [68, 95]}\n",
    "\n",
    "df1 = pd.DataFrame(data1)\n",
    "df2 = pd.DataFrame(data2)\n",
    "\n",
    "# 두 데이터프레임을 수직으로 연결하여 새로운 데이터프레임 생성\n",
    "df3 = pd.concat([df1, df2], axis=0, ignore_index=True) #ignore_index=True는 행의값이 순서대로 나타나게(0~4까지)\n",
    "\n",
    "print(df3)"
   ]
  },
  {
   "cell_type": "code",
   "execution_count": 34,
   "metadata": {},
   "outputs": [
    {
     "name": "stdout",
     "output_type": "stream",
     "text": [
      "  name  score\n",
      "0   철수     75\n",
      "1   영희     88\n",
      "2   민수     92 \n",
      "\n",
      "   name  attendence_rate\n",
      "0   영희               90\n",
      "1   철수               80\n",
      "2   지영               95\n",
      "3   다현               85 \n",
      "\n",
      "   name  score  attendence_rate\n",
      "0   철수     75               80\n",
      "1   영희     88               90\n"
     ]
    }
   ],
   "source": [
    "# 18번 문제(코딩문제)\n",
    "# pandas의 merge 메서드를 이용하여 주어진 두 개의 데이터프레임 df1과 df2를 공통 열을 기준으로 병합하여 새로운 데이터프레임 df3을 생성하여 출력하는 프로그램 을 작성하시오.\n",
    "\n",
    "import pandas as pd\n",
    "\n",
    "data1 = {'name': ['철수', '영희', '민수'], 'score': [75, 88, 92]}\n",
    "data2 = {'name': ['영희', '철수', '지영', '다현'], 'attendence_rate': [90, 80, 95, 85]}\n",
    "\n",
    "df1 = pd.DataFrame(data1)\n",
    "df2 = pd.DataFrame(data2)\n",
    "\n",
    "df3 = pd.merge(df1, df2) # 기준이 되는 열을 지정하여 합치는 메소드: on(공통열이 있다면 생략 가능)\n",
    "\n",
    "print(df1, '\\n\\n', df2, '\\n\\n', df3)"
   ]
  },
  {
   "cell_type": "code",
   "execution_count": 15,
   "metadata": {},
   "outputs": [
    {
     "name": "stdout",
     "output_type": "stream",
     "text": [
      "Example Domain\n"
     ]
    }
   ],
   "source": [
    "# 19번 문제\n",
    "# 다음은 타겟 웹페이지의 화면과 개발자 도구를 사용한 화면이다. \n",
    "# 그림1: 타겟 웹페이지 (https://example.com) 메인 화면\n",
    "# 그림 2: 타겟 웹페이지(https://example.com) 의 개발자 도구 화면\n",
    "\n",
    "# (19-1)번 문제(빈칸 코딩 문제)\n",
    "# Requests와 BeautifulSoup을 이용하여 주어진 웹페이지의 URL에서 HTML을 가져와 서 특정 태그 ‘h1’의 내용(“Example Domain”)을 추출하는 코드이다. \n",
    "# 그림 1과 그림 2의 구조를 분석하고 빈칸의 코드를 완성하시오.\n",
    "\n",
    "from bs4 import BeautifulSoup\n",
    "import requests\n",
    "\n",
    "url = 'https://example.com'                                                  # 타겟 웹페이지의 URL\n",
    "response = requests.get(url)                                                 # 해당 URL에서 HTML 가져오기\n",
    "\n",
    "soup = BeautifulSoup(response.text, 'html.parser')                           # BeautifulSoup을 사용하여 HTML 파싱\n",
    "\n",
    "target_tag = soup.find('h1')                                                 # 'h1' 태그를 추출\n",
    "target_content = target_tag.text if target_tag else '태그를 찾을 수 없음.'       # ‘h1’ 태그의 내용을 추출\n",
    "print(target_content)                                                        # 결과 출력"
   ]
  },
  {
   "cell_type": "code",
   "execution_count": null,
   "metadata": {},
   "outputs": [],
   "source": [
    "# 19-1번 문제(설명코드)\n",
    "\n",
    "#(1 )                                       # 1번 답: from bs4 import BeautifulSoup\n",
    "from bs4 import BeautifulSoup \n",
    "#(2 )                                       # 2번 답: import requests\n",
    "import requests\n",
    "# 타겟 웹페이지의 URL\n",
    "url = 'https://example.com'\n",
    "# 해당 URL에서 HTML 가져오기\n",
    "response = requests.get(url)\n",
    "# BeautifulSoup을 사용하여 HTML 파싱\n",
    "# soup = BeautifulSoup(3, 'html.parser')    # 3번 답: response.text\n",
    "soup = BeautifulSoup(response.text, 'html.parser')\n",
    "# 'h1' 태그를 추출\n",
    "# target_tag = (4 )                         # 4번 답: soup.find('h1')\n",
    "target_tag = soup.find('h1')\n",
    "# ‘h1’ 태그의 내용을 추출\n",
    "target_content = target_tag.text if target_tag else '태그를 찾을 수 없음.' \n",
    "# 결과 출력\n",
    "# (5 )                                      # 5번 답: print(target_content)\n",
    "print(target_content)"
   ]
  },
  {
   "cell_type": "code",
   "execution_count": 23,
   "metadata": {},
   "outputs": [
    {
     "name": "stdout",
     "output_type": "stream",
     "text": [
      "특정 a 요소의 개수: 1\n",
      "특정 a 요소의 속성 href 값 가져오기: https://www.iana.org/domains/example\n"
     ]
    }
   ],
   "source": [
    "# 19번 문제\n",
    "# 다음은 타겟 웹페이지의 화면과 개발자 도구를 사용한 화면이다. \n",
    "# 그림1: 타겟 웹페이지 (https://example.com) 메인 화면\n",
    "# 그림2: 타겟 웹페이지(https://example.com) 의 개발자 도구 화면\n",
    "\n",
    "# (19-2)번 문제 (결과)\n",
    "# 다음은 Selenium을 이용하여 동일한 URL에서 웹 페이지를 열고, 해당 페이지에서 CSS 선택자를 사용하여 모든 <a> 태그를 찾아서 개수를 세어서 출력하는 코드이다. \n",
    "# 그림 1 과 그림 2의 구조를 분석하고 실행 결과를 적으시오.\n",
    "\n",
    "from selenium import webdriver\n",
    "from selenium.webdriver.common.by import By\n",
    "\n",
    "driver = webdriver.Chrome()\n",
    "driver.get(\"https://example.com\")\n",
    "elements_with_a = driver.find_elements(By.CSS_SELECTOR, \"a\") \n",
    "print(\"특정 a 요소의 개수:\", len(elements_with_a))\n",
    "print(\"특정 a 요소의 속성 href 값 가져오기:\", elements_with_a[0].get_attribute(\"href\")) # elements_with_a[0]는 첫번째 a태그\n",
    "driver.quit()"
   ]
  },
  {
   "cell_type": "code",
   "execution_count": null,
   "metadata": {},
   "outputs": [],
   "source": [
    "# 20번 문제(명령어 적기)\n",
    "# 윈도우 git Bash 터미널에서 다음 작업을 수행하는데 올바른 명령어를 적으시오. \n",
    "\n",
    "# (1) 현재 작업 디렉터리를 확인하기\n",
    "# (2) 현재 디렉터리의 모든 파일과 디렉터리를 표시하기\n",
    "# (3) 현재 작업 디렉터리가 “/C/Users/USER”일 때 “Desktop”으로 변경하시오\n",
    "# (4) BeautifulSoup 라이브러리를 설치하기 \n",
    "# (5) \"file.txt\" 파일의 내용을 출력하기\n",
    "# (6) 이름이 \"myenv\"인 가상환경을 생성하기 \n",
    "# (7) \"myenv\"인 가상환경을 활성화하기\n",
    "# (8) 가상환경을 비활성화하기\n",
    "# (9) 변경 사항을 “initial Add”으로 깃 커밋하기\n",
    "\n",
    "1. $ pwd\n",
    "2. $ ls\n",
    "3. $ cd Desktop\n",
    "4. $ pip install beautifulsoup4\n",
    "5. $ cat file.txt\n",
    "6. $ virtualenv myenv\n",
    "7. $ source ./myenv/Scripts/activate\n",
    "8. $ deactivate\n",
    "9. $ git commit -m \"initial Add\""
   ]
  },
  {
   "cell_type": "code",
   "execution_count": 34,
   "metadata": {},
   "outputs": [],
   "source": [
    "# 22번 문제(코딩문제) 21번은 없음\n",
    "# 주어진 딕셔너리 데이터를 pandas의 CSV 파일(data.csv)과 JSON 파일 (data.json)로 저장하는 프로그램을 작성하시오. (단, 저장 경로는 임의로 정한다.)\n",
    "# data = {'이름': ['철수', '영희', '민수', '지영'], '나이': [25, 30, 22, 28], '성별': ['남자', '여자', '남자', '여자']}\n",
    "\n",
    "import pandas as pd\n",
    "\n",
    "data = {'이름': ['철수', '영희', '민수', '지영'], '나이': [25, 30, 22, 28], '성별': ['남자', '여자', '남자', '여자']}\n",
    "df = pd.DataFrame(data)\n",
    "\n",
    "df.to_csv('data.csv')\n",
    "df.to_json('data.json')"
   ]
  },
  {
   "cell_type": "code",
   "execution_count": 38,
   "metadata": {},
   "outputs": [
    {
     "name": "stdout",
     "output_type": "stream",
     "text": [
      "    A   B\n",
      "0  A0  B0\n",
      "1  A1  B1\n",
      "2  A2  B2\n",
      "3  A3  B3\n",
      "4  A4  B4\n",
      "5  A5  B5\n"
     ]
    }
   ],
   "source": [
    "# 23번 문제(코딩문제)\n",
    "# 판다스의 concat() 메서드를 이용하여 다음 두 개의 데이터프레임 df1, df2를 수직으로 결합한 후 다음과 같은 결과를 출력하도록 파이썬 코드를 빈칸에 작성하시오.\n",
    "\n",
    "# import pandas as pd\n",
    "# df1 = pd.DataFrame({'A': ['A0', 'A1', 'A2'], 'B': ['B0', 'B1', 'B2']})\n",
    "# df2 = pd.DataFrame({'A': ['A3', 'A4', 'A5'], 'B': ['B3', 'B4', 'B5']})\n",
    "# 여기에 코드를 작성하세요 \n",
    "# (                 )\n",
    "# print(result)\n",
    "\n",
    "import pandas as pd\n",
    "\n",
    "df1 = pd.DataFrame({'A': ['A0', 'A1', 'A2'], 'B': ['B0', 'B1', 'B2']})\n",
    "df2 = pd.DataFrame({'A': ['A3', 'A4', 'A5'], 'B': ['B3', 'B4', 'B5']})\n",
    "\n",
    "result = pd.concat([df1, df2], ignore_index=True)       # 이 부분이 답\n",
    "\n",
    "print(result)\n"
   ]
  },
  {
   "cell_type": "code",
   "execution_count": 155,
   "metadata": {},
   "outputs": [
    {
     "name": "stdout",
     "output_type": "stream",
     "text": [
      "  key   A   B\n",
      "0  K0  A0  B0\n",
      "1  K1  A1  B1\n",
      "2  K2  A2  B2\n"
     ]
    }
   ],
   "source": [
    "# 24번 문제(코딩문제)\n",
    "# 판다스의 merge() 메서드을 이용하여 다음 두 개의 데이터프레임 left, right를 'key' 열을 기준으로 내부 조인(inner join)한 후 결과를 출력하도록 파이썬 코드를 빈칸에 작성하시오.\n",
    "\n",
    "# import pandas as pd\n",
    "\n",
    "# left = pd.DataFrame({'key': ['K0', 'K1', 'K2'], 'A': ['A0', 'A1', 'A2']})\n",
    "# right = pd.DataFrame({'key': ['K0', 'K1', 'K2'], 'B': ['B0', 'B1', 'B2']})\n",
    "# 여기에 코드를 작성하세요 \n",
    "# (              ) \n",
    "# print(result)\n",
    "\n",
    "import pandas as pd\n",
    "\n",
    "left = pd.DataFrame({'key': ['K0', 'K1', 'K2'], 'A': ['A0', 'A1', 'A2']})\n",
    "right = pd.DataFrame({'key': ['K0', 'K1', 'K2'], 'B': ['B0', 'B1', 'B2']}) \n",
    "\n",
    "result = pd.merge(left, right, on='key', how='inner') # 이부분이 답\n",
    "\n",
    "print(result)"
   ]
  },
  {
   "cell_type": "code",
   "execution_count": 68,
   "metadata": {},
   "outputs": [
    {
     "name": "stdout",
     "output_type": "stream",
     "text": [
      "   학생  성적\n",
      "0  철수  80\n",
      "1  영희  75\n",
      "2  민수  90 \n",
      "\n",
      "    학생  성적\n",
      "0  지영  85 \n",
      "\n",
      "    학생  성적\n",
      "0  철수  80\n",
      "1  영희  75\n",
      "2  민수  90\n",
      "3  지영  85\n"
     ]
    }
   ],
   "source": [
    "# 25번 문제\n",
    "# 다음은 학생들의 성적을 담은 데이터프레임 df와 추가적인 학생의 성적을 담은 시리즈 new_student_scores가 있다.\n",
    "\n",
    "# 25-1 문제(코딩문제)\n",
    "# concat() 함수를 사용하여 데이터프레임 df와 시리즈 new_student_scores를 수직으로 결합한 후 결과를 출력하는 프로그램을 작성하시오.\n",
    " \n",
    "import pandas as pd\n",
    "\n",
    "df = pd.DataFrame({'학생': ['철수', '영희', '민수'], '성적': [80, 75, 90]})\n",
    "\n",
    "data = pd.Series([85], index=['지영'])\n",
    "new_student_scores = pd.DataFrame({'학생': data.index, '성적': data.values})  # Series를 데이터프레임으로 변환하여 출력\n",
    "\n",
    "result = pd.concat([df, new_student_scores], ignore_index=True)  # concat은 밑에 행에 추가만(이름 순x)\n",
    "print(df, '\\n\\n', new_student_scores, '\\n\\n', result)"
   ]
  },
  {
   "cell_type": "code",
   "execution_count": 40,
   "metadata": {},
   "outputs": [
    {
     "name": "stdout",
     "output_type": "stream",
     "text": [
      "   학생  성적\n",
      "0  민수  90\n",
      "1  영희  75\n",
      "2  지영  85\n",
      "3  철수  80\n"
     ]
    }
   ],
   "source": [
    "# 25번 문제\n",
    "# 다음은 학생들의 성적을 담은 데이터프레임 df와 추가적인 학생의 성적을 담은 시리즈 new_student_scores가 있다.\n",
    "\n",
    "# 25-2 문제(코딩문제)\n",
    "# merge() 함수를 사용하여 데이터프레임 df와 시리즈 new_student_scores를 병합한 후 결과를 출력하는 프로그램을 작성하시오.\n",
    "\n",
    "import pandas as pd\n",
    "\n",
    "df = pd.DataFrame({'학생': ['철수', '영희', '민수'], '성적': [80, 75, 90]})\n",
    "data = pd.Series([85], index= ['지영'])\n",
    "\n",
    "new_student_scores = pd.DataFrame({'학생': data.index, '성적': data.values})\n",
    "\n",
    "result = pd.merge(df, new_student_scores, how='outer') # merge는 이름 순서대로 병합\n",
    "print(result)"
   ]
  },
  {
   "cell_type": "code",
   "execution_count": 42,
   "metadata": {},
   "outputs": [
    {
     "name": "stdout",
     "output_type": "stream",
     "text": [
      "   A  B\n",
      "X  1  4\n",
      "Y  2  5\n",
      "Z  3  6 \n",
      "\n",
      "    C   D\n",
      "X  7  10\n",
      "Y  8  11\n",
      "Z  9  12 \n",
      "\n",
      " X    13\n",
      "Y    14\n",
      "Z    15\n",
      "Name: E, dtype: int64 \n",
      "\n",
      "    A  B  C   D\n",
      "X  1  4  7  10\n",
      "Y  2  5  8  11\n",
      "Z  3  6  9  12 \n",
      "\n",
      "    A  B  C   D   E\n",
      "X  1  4  7  10  13\n",
      "Y  2  5  8  11  14\n",
      "Z  3  6  9  12  15 \n",
      "\n",
      "    A  B  C   D\n",
      "X  1  4  7  10\n",
      "Y  2  5  8  11\n",
      "Z  3  6  9  12 \n",
      "\n",
      "    A  B  C   D   E\n",
      "X  1  4  7  10  13\n",
      "Y  2  5  8  11  14\n",
      "Z  3  6  9  12  15\n"
     ]
    }
   ],
   "source": [
    "# 26번 문제\n",
    "# 다음은 두 개의 데이터프레임 df1, df2와 시리즈 s가 있다. 각 데이터프레임 과 시리즈는 동일한 색인 X, Y, Z을 가지고 있다.\n",
    "\n",
    "# 26-1 문제(코딩문제)\n",
    "# concat() 함수를 사용하여 데이터프레임 df1과 df2를 수평으로 결합한 후, 시리즈 s를 수 평으로 결합한 결과를 출력하도록 프로그램을 작성하시오.\n",
    "\n",
    "# 26-2 문제(코딩문제)\n",
    "# merge() 함수를 사용하여 데이터프레임 df1과 df2를 병합하고, 시리즈 s를 추가한 결과를 출력하도록 프로그램을 작성하시오.\n",
    "\n",
    "import pandas as pd\n",
    "\n",
    "df1 = pd.DataFrame({'A': [1, 2, 3], 'B': [4, 5, 6]}, index= ['X', 'Y', 'Z'])\n",
    "df2 = pd.DataFrame({'C': [7, 8, 9], 'D': [10, 11, 12]}, index= ['X', 'Y', 'Z'])\n",
    "s = pd.Series([13, 14, 15], index= ['X', 'Y', 'Z'], name='E')                   # index는 행이름, name은 열이름\n",
    "\n",
    "result_concat1 = pd.concat([df1, df2], axis='columns')                  \n",
    "result_concat2 = pd.concat([result_concat1, s], axis='columns')     \n",
    "\n",
    "result_merge1 = pd.merge(df1, df2, right_index = True, left_index = True) # right_index와 left_index = True면 각각의 데이터프레임의 인덱스를 기준으로 조인\n",
    "result_merge2 = pd.merge(result_merge1, s, right_index=True, left_index=True)\n",
    "\n",
    "print(df1, '\\n\\n', df2, '\\n\\n', s, '\\n\\n', result_concat1, '\\n\\n', result_concat2, '\\n\\n', result_merge1, '\\n\\n', result_merge2)"
   ]
  },
  {
   "cell_type": "code",
   "execution_count": 150,
   "metadata": {},
   "outputs": [
    {
     "name": "stdout",
     "output_type": "stream",
     "text": [
      "   이름  국어  영어  수학\n",
      "0  철수  90  85  75\n",
      "1  영희  80  95  80\n",
      "2  민수  85  70  90\n",
      "   이름  국어  영어  수학   총점\n",
      "0  철수  90  85  75  250\n",
      "1  영희  80  95  80  255\n",
      "2  민수  85  70  90  245\n",
      "     이름    국어         영어         수학     총점\n",
      "0    철수  90.0  85.000000  75.000000  250.0\n",
      "1    영희  80.0  95.000000  80.000000  255.0\n",
      "2    민수  85.0  70.000000  90.000000  245.0\n",
      "평균  NaN  85.0  83.333333  81.666667    NaN\n"
     ]
    }
   ],
   "source": [
    "# 27번 문제\n",
    "# 주어진 데이터프레임 df은 학생들의 성적을 담고 있다. 각 문제별 데이터프 레임에 apply() 함수 또는 lambda함수를 사용하여 프로그램을 작성하시오.\n",
    "\n",
    "# 27-1문제(코딩 문제)\n",
    "# 각 학생의 성적 총점을 계산하여 '총점' 열을 추가한 후, 결과를 출력하시오.\n",
    "\n",
    "# 27-2문제(코딩 문제)\n",
    "# 각 과목의 평균 점수를 계산하여 '평균' 행을 추가한 후, 결과를 출력하시오.\n",
    "\n",
    "import pandas as pd\n",
    "\n",
    "df = pd.DataFrame({'이름': ['철수', '영희', '민수'], '국어': [90, 80, 85], '영어': [85, 95, 70], '수학': [75, 80, 90]})\n",
    "print(df)\n",
    "\n",
    "df['총점']= df[['국어','영어', '수학']].apply(sum, axis=\"columns\")\n",
    "print(df)\n",
    "\n",
    "df.loc['평균'] = df[['국어', '영어', '수학']].apply(lambda x: x.mean())\n",
    "\n",
    "print(df)"
   ]
  }
 ],
 "metadata": {
  "kernelspec": {
   "display_name": "Python 3",
   "language": "python",
   "name": "python3"
  },
  "language_info": {
   "codemirror_mode": {
    "name": "ipython",
    "version": 3
   },
   "file_extension": ".py",
   "mimetype": "text/x-python",
   "name": "python",
   "nbconvert_exporter": "python",
   "pygments_lexer": "ipython3",
   "version": "3.12.2"
  }
 },
 "nbformat": 4,
 "nbformat_minor": 2
}
